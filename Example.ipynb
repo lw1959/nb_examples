{
 "cells": [
  {
   "cell_type": "markdown",
   "id": "bce7e668",
   "metadata": {},
   "source": [
    "# Welcome\n",
    "\n",
    "    Lorem ipsum dolor sit amet, consectetur adipiscing elit, sed do eiusmod tempor incididunt ut labore et dolore magna aliqua. Ut enim ad minim veniam, quis nostrud exercitation ullamco laboris nisi ut aliquip ex ea commodo consequat. Duis aute irure dolor in reprehenderit in voluptate velit esse cillum dolore eu fugiat nulla pariatur. Excepteur sint occaecat cupidatat non proident, sunt in culpa qui officia deserunt mollit anim id est laborum.\n",
    "    \n",
    "    \n",
    "## adipiscing elit\n",
    "\n",
    "    Lorem ipsum dolor sit amet, consectetur adipiscing elit, sed do eiusmod tempor incididunt ut labore et dolore magna aliqua. Ut enim ad minim veniam, quis nostrud exercitation ullamco laboris nisi ut aliquip ex ea commodo consequat. Duis aute irure dolor in reprehenderit in voluptate velit esse cillum dolore eu fugiat nulla pariatur. Excepteur sint occaecat cupidatat non proident, sunt in culpa qui officia deserunt mollit anim id est laborum."
   ]
  },
  {
   "cell_type": "code",
   "execution_count": 1,
   "id": "e011223d",
   "metadata": {},
   "outputs": [
    {
     "name": "stdout",
     "output_type": "stream",
     "text": [
      "Hello World\n"
     ]
    }
   ],
   "source": [
    "print('Hello World')"
   ]
  },
  {
   "cell_type": "markdown",
   "id": "4a3b362c",
   "metadata": {},
   "source": [
    "###  consectetur adipiscing\n",
    "\n",
    "Lorem ipsum dolor sit amet, consectetur adipiscing elit, sed do eiusmod tempor incididunt ut labore et dolore magna aliqua. Augue ut lectus arcu bibendum at varius. Id semper risus in hendrerit gravida rutrum quisque. Neque sodales ut etiam sit amet nisl purus in mollis. Platea dictumst quisque sagittis purus sit amet. Netus et malesuada fames ac turpis egestas sed. Mattis enim ut tellus elementum sagittis vitae et leo. Egestas sed sed risus pretium quam vulputate dignissim suspendisse in. Diam sit amet nisl suscipit adipiscing bibendum est ultricies integer. Et molestie ac feugiat sed lectus vestibulum mattis ullamcorper. Ut sem nulla pharetra diam sit amet nisl. Dictum non consectetur a erat nam at lectus urna. Ultrices vitae auctor eu augue ut lectus arcu bibendum. Vitae proin sagittis nisl rhoncus. Duis at consectetur lorem donec massa sapien. Augue ut lectus arcu bibendum at. Lacus sed viverra tellus in hac habitasse. Aliquet porttitor lacus luctus accumsan tortor posuere. Semper viverra nam libero justo laoreet sit amet."
   ]
  },
  {
   "cell_type": "code",
   "execution_count": null,
   "id": "cddeb153",
   "metadata": {},
   "outputs": [],
   "source": []
  }
 ],
 "metadata": {
  "kernelspec": {
   "display_name": "Python 3 (ipykernel)",
   "language": "python",
   "name": "python3"
  },
  "language_info": {
   "codemirror_mode": {
    "name": "ipython",
    "version": 3
   },
   "file_extension": ".py",
   "mimetype": "text/x-python",
   "name": "python",
   "nbconvert_exporter": "python",
   "pygments_lexer": "ipython3",
   "version": "3.9.7"
  }
 },
 "nbformat": 4,
 "nbformat_minor": 5
}
